{
 "cells": [
  {
   "cell_type": "code",
   "execution_count": 11,
   "metadata": {},
   "outputs": [
    {
     "name": "stdout",
     "output_type": "stream",
     "text": [
      "['/home/lpr/miniconda3/envs/th-cuda11/lib/python38.zip', '/home/lpr/miniconda3/envs/th-cuda11/lib/python3.8', '/home/lpr/miniconda3/envs/th-cuda11/lib/python3.8/lib-dynload', '', '/home/lpr/miniconda3/envs/th-cuda11/lib/python3.8/site-packages', '/home/lpr/project_nattabude/carla/self-driving-sb3/notebook', '/home/lpr/project_nattabude/carla/self-driving-sb3']\n"
     ]
    }
   ],
   "source": [
    "import sys\n",
    "import os\n",
    "\n",
    "# Add the current working directory to sys.path\n",
    "sys.path.append(os.path.abspath('..'))\n",
    "\n",
    "# Print sys.path to verify the change\n",
    "print(sys.path)\n",
    "\n"
   ]
  },
  {
   "cell_type": "code",
   "execution_count": 13,
   "metadata": {},
   "outputs": [],
   "source": [
    "from environment.tools.observer import seg_vae_act\n"
   ]
  }
 ],
 "metadata": {
  "kernelspec": {
   "display_name": "th-cuda11",
   "language": "python",
   "name": "python3"
  },
  "language_info": {
   "codemirror_mode": {
    "name": "ipython",
    "version": 3
   },
   "file_extension": ".py",
   "mimetype": "text/x-python",
   "name": "python",
   "nbconvert_exporter": "python",
   "pygments_lexer": "ipython3",
   "version": "3.8.19"
  }
 },
 "nbformat": 4,
 "nbformat_minor": 2
}
