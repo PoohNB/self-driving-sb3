{
 "cells": [
  {
   "cell_type": "markdown",
   "metadata": {},
   "source": [
    "# learn about simulation"
   ]
  },
  {
   "cell_type": "code",
   "execution_count": 7,
   "metadata": {},
   "outputs": [],
   "source": [
    "class test:\n",
    "    def __init__(self) -> None:\n",
    "        \n",
    "        self.__a =1\n",
    "        self.b =2\n",
    "\n",
    "    def apply_a(self,n):\n",
    "        self.__a=n\n"
   ]
  },
  {
   "cell_type": "code",
   "execution_count": 8,
   "metadata": {},
   "outputs": [],
   "source": [
    "asr = test()"
   ]
  },
  {
   "cell_type": "code",
   "execution_count": null,
   "metadata": {},
   "outputs": [],
   "source": []
  },
  {
   "cell_type": "code",
   "execution_count": null,
   "metadata": {},
   "outputs": [],
   "source": []
  },
  {
   "cell_type": "code",
   "execution_count": 5,
   "metadata": {},
   "outputs": [],
   "source": [
    "asr._a = 3"
   ]
  },
  {
   "cell_type": "code",
   "execution_count": 6,
   "metadata": {},
   "outputs": [
    {
     "data": {
      "text/plain": [
       "3"
      ]
     },
     "execution_count": 6,
     "metadata": {},
     "output_type": "execute_result"
    }
   ],
   "source": [
    "asr._a"
   ]
  },
  {
   "cell_type": "code",
   "execution_count": 1,
   "metadata": {},
   "outputs": [],
   "source": [
    "import numpy as np\n"
   ]
  },
  {
   "cell_type": "code",
   "execution_count": 2,
   "metadata": {},
   "outputs": [
    {
     "data": {
      "text/plain": [
       "-3.4028235e+38"
      ]
     },
     "execution_count": 2,
     "metadata": {},
     "output_type": "execute_result"
    }
   ],
   "source": [
    "np.finfo(np.float32).min"
   ]
  },
  {
   "cell_type": "code",
   "execution_count": 3,
   "metadata": {},
   "outputs": [
    {
     "data": {
      "text/plain": [
       "3.4028235e+38"
      ]
     },
     "execution_count": 3,
     "metadata": {},
     "output_type": "execute_result"
    }
   ],
   "source": [
    "np.finfo(np.float32).max"
   ]
  },
  {
   "cell_type": "code",
   "execution_count": 74,
   "metadata": {},
   "outputs": [
    {
     "data": {
      "text/plain": [
       "(deque([array([1., 1.], dtype=float32)], maxlen=1),\n",
       " [array([1., 1.], dtype=float32)])"
      ]
     },
     "execution_count": 74,
     "metadata": {},
     "output_type": "execute_result"
    }
   ],
   "source": [
    "from collections import deque\n",
    "f=1\n",
    "s=0\n",
    "histo = deque(maxlen=f*(s+1)-s)\n",
    "init_item = [np.array([1,i],np.float32) for i in range(f*(s+1)+1)]\n",
    "histo.extend(init_item)\n",
    "sampling = [histo[i] for i in range(len(histo)) if i%(s+1)==0]\n",
    "histo,sampling"
   ]
  },
  {
   "cell_type": "code",
   "execution_count": 76,
   "metadata": {},
   "outputs": [
    {
     "data": {
      "text/plain": [
       "(deque([array([ 1, 43])], maxlen=1), [array([ 1, 43])])"
      ]
     },
     "execution_count": 76,
     "metadata": {},
     "output_type": "execute_result"
    }
   ],
   "source": [
    "histo.append(np.array([1,43]))\n",
    "sampling = [histo[i] for i in range(len(histo)) if i%(s+1)==0]\n",
    "histo,sampling"
   ]
  },
  {
   "cell_type": "code",
   "execution_count": 78,
   "metadata": {},
   "outputs": [
    {
     "data": {
      "text/plain": [
       "array([ 1, 43])"
      ]
     },
     "execution_count": 78,
     "metadata": {},
     "output_type": "execute_result"
    }
   ],
   "source": [
    "np.concatenate(sampling)"
   ]
  },
  {
   "cell_type": "code",
   "execution_count": 80,
   "metadata": {},
   "outputs": [],
   "source": [
    "def tes(**arg):\n",
    "    print(arg)"
   ]
  },
  {
   "cell_type": "code",
   "execution_count": 81,
   "metadata": {},
   "outputs": [
    {
     "name": "stdout",
     "output_type": "stream",
     "text": [
      "{'img': 1, 'act': 3}\n"
     ]
    }
   ],
   "source": [
    "tes(img =1, act = 3)"
   ]
  },
  {
   "cell_type": "code",
   "execution_count": 4,
   "metadata": {},
   "outputs": [],
   "source": [
    "from gym import spaces\n",
    "\n",
    "observation_space = spaces.Box(low=np.finfo(np.float32).min,\n",
    "                                                high=np.finfo(np.float32).max,\n",
    "                                                shape=(1, 7),\n",
    "                                                dtype=np.float32)"
   ]
  },
  {
   "cell_type": "code",
   "execution_count": 6,
   "metadata": {},
   "outputs": [
    {
     "data": {
      "text/plain": [
       "array([[ 2.4290013e+38,  9.9281949e+37, -1.4790196e+38, -2.5282738e+38,\n",
       "         2.6497033e+38, -1.1968979e+38,  1.9680949e+38]], dtype=float32)"
      ]
     },
     "execution_count": 6,
     "metadata": {},
     "output_type": "execute_result"
    }
   ],
   "source": [
    "observation_space.sample()"
   ]
  },
  {
   "cell_type": "code",
   "execution_count": 7,
   "metadata": {},
   "outputs": [
    {
     "data": {
      "text/plain": [
       "array([[3.4028235e+38, 3.4028235e+38, 3.4028235e+38, 3.4028235e+38,\n",
       "        3.4028235e+38, 3.4028235e+38, 3.4028235e+38, 3.4028235e+38,\n",
       "        3.4028235e+38, 3.4028235e+38, 3.4028235e+38, 3.4028235e+38,\n",
       "        3.4028235e+38, 3.4028235e+38, 3.4028235e+38, 3.4028235e+38,\n",
       "        3.4028235e+38, 3.4028235e+38, 3.4028235e+38, 3.4028235e+38,\n",
       "        3.4028235e+38]], dtype=float32)"
      ]
     },
     "execution_count": 7,
     "metadata": {},
     "output_type": "execute_result"
    }
   ],
   "source": [
    "np.repeat(observation_space.high, 3, axis=-1)"
   ]
  },
  {
   "cell_type": "code",
   "execution_count": 9,
   "metadata": {},
   "outputs": [],
   "source": [
    "obs = spaces.Box(low=0, high=255,shape=(10,12,3), dtype=np.uint8)"
   ]
  },
  {
   "cell_type": "code",
   "execution_count": 11,
   "metadata": {},
   "outputs": [
    {
     "data": {
      "text/plain": [
       "(10, 12, 3)"
      ]
     },
     "execution_count": 11,
     "metadata": {},
     "output_type": "execute_result"
    }
   ],
   "source": [
    "obs.sample().shape"
   ]
  },
  {
   "cell_type": "code",
   "execution_count": null,
   "metadata": {},
   "outputs": [],
   "source": []
  },
  {
   "cell_type": "code",
   "execution_count": null,
   "metadata": {},
   "outputs": [],
   "source": []
  },
  {
   "cell_type": "code",
   "execution_count": null,
   "metadata": {},
   "outputs": [],
   "source": [
    "from pygame.locals import K_TAB"
   ]
  },
  {
   "cell_type": "code",
   "execution_count": 3,
   "metadata": {},
   "outputs": [],
   "source": [
    "import numpy as np\n",
    "from collections import deque\n",
    "from gym import spaces"
   ]
  },
  {
   "cell_type": "code",
   "execution_count": 54,
   "metadata": {},
   "outputs": [],
   "source": [
    "observation_space = spaces.Dict({\n",
    "            'seg': spaces.Box(low=0, high=3, shape=(16,16,4), dtype=np.uint8)\n",
    "        })"
   ]
  },
  {
   "cell_type": "code",
   "execution_count": 62,
   "metadata": {},
   "outputs": [
    {
     "name": "stderr",
     "output_type": "stream",
     "text": [
      "/home/lpr/miniconda3/envs/CarlaEnv/lib/python3.8/site-packages/gym/spaces/box.py:127: UserWarning: \u001b[33mWARN: Box bound precision lowered by casting to float32\u001b[0m\n",
      "  logger.warn(f\"Box bound precision lowered by casting to {self.dtype}\")\n"
     ]
    }
   ],
   "source": [
    "action_space = spaces.Box(np.array([-1, 0]), np.array([1, 1]), dtype=np.float32) "
   ]
  },
  {
   "cell_type": "code",
   "execution_count": 63,
   "metadata": {},
   "outputs": [],
   "source": [
    "observation_space.spaces['action'] = action_space"
   ]
  },
  {
   "cell_type": "code",
   "execution_count": 66,
   "metadata": {},
   "outputs": [],
   "source": [
    "stacked_action_space = spaces.Tuple((action_space,) * 4)"
   ]
  },
  {
   "cell_type": "code",
   "execution_count": 67,
   "metadata": {},
   "outputs": [
    {
     "data": {
      "text/plain": [
       "Tuple(Box([-1.  0.], 1.0, (2,), float32), Box([-1.  0.], 1.0, (2,), float32), Box([-1.  0.], 1.0, (2,), float32), Box([-1.  0.], 1.0, (2,), float32))"
      ]
     },
     "execution_count": 67,
     "metadata": {},
     "output_type": "execute_result"
    }
   ],
   "source": [
    "stacked_action_space"
   ]
  },
  {
   "cell_type": "code",
   "execution_count": 6,
   "metadata": {},
   "outputs": [],
   "source": [
    "import pygame\n",
    "import cv2\n",
    "import os\n"
   ]
  },
  {
   "cell_type": "code",
   "execution_count": 2,
   "metadata": {},
   "outputs": [],
   "source": [
    "def set_world(world):\n",
    "    settings = world.get_settings()\n",
    "    settings.synchronous_mode = True\n",
    "    settings.fixed_delta_seconds = 0.2\n",
    "    settings.max_substeps = 16\n",
    "    settings.max_substep_delta_time = 0.0125\n",
    "    world.apply_settings(settings)"
   ]
  },
  {
   "cell_type": "code",
   "execution_count": 3,
   "metadata": {},
   "outputs": [],
   "source": [
    "def setting_camera(cam_type,cam_config):\n",
    "        \n",
    "    bp_cam = blueprints.find(cam_type)\n",
    "    bp_cam.set_attribute('image_size_y', str(cam_config['image_size_y']))\n",
    "    bp_cam.set_attribute('image_size_x', str(cam_config['image_size_x']))\n",
    "    bp_cam.set_attribute('fov', str(cam_config['fov']))\n",
    "    bp_cam.set_attribute('sensor_tick', str(cam_config['sensor_tick']))\n",
    "\n",
    "    return bp_cam"
   ]
  },
  {
   "cell_type": "code",
   "execution_count": 3,
   "metadata": {},
   "outputs": [
    {
     "name": "stdout",
     "output_type": "stream",
     "text": [
      "CARLA Version: 0.9.15\n"
     ]
    }
   ],
   "source": [
    "from config.position import car_spawn\n",
    "from utils.tools import carla_point\n",
    "from config.camera import front_cam,left_cam,right_cam\n",
    "\n",
    "import carla\n",
    "carSPs = [carla_point(p) for p in car_spawn]\n",
    "\n",
    "camera_list = [front_cam,left_cam,right_cam]\n",
    "camera_dict = {s['name']:s for s in camera_list}\n",
    "\n",
    "# Connect to the CARLA server\n",
    "client = carla.Client('localhost', 2000)\n",
    "client.set_timeout(2.0)\n",
    "\n",
    "# Get the version information\n",
    "version = client.get_client_version()\n",
    "print(\"CARLA Version:\", version)\n",
    "\n",
    "world = client.get_world()\n",
    "\n",
    "set_world(world)\n",
    "\n",
    "# Destroy all actors\n",
    "actors = world.get_actors()\n",
    "for actor in actors:\n",
    "    actor.destroy()\n",
    "\n",
    "blueprints = world.get_blueprint_library()\n",
    "\n",
    "bp_car = blueprints.filter(\"evt_echo_4s\")[0]\n",
    "\n",
    "car = world.spawn_actor(bp_car, carSPs[0])\n",
    "\n",
    "cams = []\n",
    "\n",
    "for s in camera_list:\n",
    "    bp_cam = setting_camera('sensor.camera.semantic_segmentation',s)\n",
    "    cam = world.spawn_actor(bp_cam, carla.Transform(carla.Location(*s['Location']), carla.Rotation(*s['Rotation'])), attach_to=car)\n",
    "    dir = os.path.join(\"save\",s['name'])\n",
    "    os.makedirs(dir,exist_ok=True)\n",
    "    cam.listen(lambda image,dir = dir: image.save_to_disk(os.path.join(dir,str(len(os.listdir(dir))+1)+\".jpg\")))\n",
    "    cams.append(cam)\n",
    "\n",
    "pygame.init()\n",
    "pygame.font.init()\n",
    "display = pygame.display.set_mode((1120, 560), pygame.HWSURFACE | pygame.DOUBLEBUF)\n",
    "clock = pygame.time.Clock()"
   ]
  },
  {
   "cell_type": "code",
   "execution_count": null,
   "metadata": {},
   "outputs": [],
   "source": [
    "def process_image(image):\n",
    "    img = pygame.image.frombuffer(image.raw_data, (image.width, image.height), 'RGB')\n",
    "    display.blit(img, (0, 0))"
   ]
  },
  {
   "cell_type": "code",
   "execution_count": 9,
   "metadata": {},
   "outputs": [],
   "source": [
    "import keyboard"
   ]
  },
  {
   "cell_type": "code",
   "execution_count": 3,
   "metadata": {},
   "outputs": [],
   "source": [
    "import pygame\n",
    "import time\n",
    "# Initialize Pygame\n",
    "pygame.init()\n",
    "\n",
    "# Set up the display\n",
    "pygame.display.set_caption(\"test carla\")\n",
    "clock = pygame.time.Clock()\n",
    "\n",
    "# Load an image\n",
    "image = pygame.image.load(\"save/test1.jpg\")\n",
    "\n",
    "# Main loop\n",
    "running = True\n",
    "st=time.time()\n",
    "while running:\n",
    "    for event in pygame.event.get():\n",
    "        if event.type == pygame.QUIT:\n",
    "            running = False\n",
    "\n",
    "    # Clear the screen\n",
    "    display.fill((255, 255, 255))\n",
    "    \n",
    "    # Draw the image onto the screen\n",
    "    display.blit(image, (100, 100))  # Drawing the image at (100, 100) on the screen\n",
    "\n",
    "    # Update the display\n",
    "    pygame.display.flip()\n",
    "\n",
    "    clock.tick()\n",
    "    world.tick()\n",
    "\n",
    "# Quit Pygame\n",
    "pygame.quit()\n"
   ]
  },
  {
   "cell_type": "code",
   "execution_count": 7,
   "metadata": {},
   "outputs": [],
   "source": [
    "# Example file showing a basic pygame \"game loop\"\n",
    "import pygame\n",
    "\n",
    "# pygame setup\n",
    "pygame.init()\n",
    "screen = pygame.display.set_mode((1280, 720))\n",
    "clock = pygame.time.Clock()\n",
    "running = True\n",
    "\n",
    "while running:\n",
    "    # poll for events\n",
    "    # pygame.QUIT event means the user clicked X to close your window\n",
    "    for event in pygame.event.get():\n",
    "        if event.type == pygame.QUIT:\n",
    "            running = False\n",
    "\n",
    "    # fill the screen with a color to wipe away anything from last frame\n",
    "    screen.fill(\"purple\")\n",
    "\n",
    "    # RENDER YOUR GAME HERE\n",
    "\n",
    "    # flip() the display to put your work on screen\n",
    "    pygame.display.flip()\n",
    "\n",
    "    clock.tick(60)  # limits FPS to 60\n",
    "\n",
    "pygame.quit()"
   ]
  },
  {
   "cell_type": "code",
   "execution_count": null,
   "metadata": {},
   "outputs": [],
   "source": [
    "\n",
    "pygame.event.pump()\n",
    "if pygame.key.get_pressed()[K_ESCAPE]:\n",
    "    pygame.close()\n",
    "\n",
    "clock.tick()\n"
   ]
  },
  {
   "cell_type": "code",
   "execution_count": 27,
   "metadata": {},
   "outputs": [
    {
     "ename": "KeyboardInterrupt",
     "evalue": "",
     "output_type": "error",
     "traceback": [
      "\u001b[0;31m---------------------------------------------------------------------------\u001b[0m",
      "\u001b[0;31mKeyboardInterrupt\u001b[0m                         Traceback (most recent call last)",
      "Cell \u001b[0;32mIn[27], line 2\u001b[0m\n\u001b[1;32m      1\u001b[0m \u001b[38;5;28;01mwhile\u001b[39;00m \u001b[38;5;28;01mTrue\u001b[39;00m:\n\u001b[0;32m----> 2\u001b[0m     \u001b[43mworld\u001b[49m\u001b[38;5;241;43m.\u001b[39;49m\u001b[43mtick\u001b[49m\u001b[43m(\u001b[49m\u001b[43m)\u001b[49m\n",
      "\u001b[0;31mKeyboardInterrupt\u001b[0m: "
     ]
    }
   ],
   "source": [
    "while True:\n",
    "    world.tick()"
   ]
  },
  {
   "cell_type": "code",
   "execution_count": 20,
   "metadata": {},
   "outputs": [],
   "source": [
    "# save image\n",
    "name = \"test1\"\n",
    "cams[int(name[-1])].listen(lambda image,name=name: image.save_to_disk(f'save/{name}.jpg'))"
   ]
  },
  {
   "cell_type": "code",
   "execution_count": 21,
   "metadata": {},
   "outputs": [],
   "source": [
    "cams[int(name[-1])].stop()"
   ]
  },
  {
   "cell_type": "code",
   "execution_count": 24,
   "metadata": {},
   "outputs": [
    {
     "data": {
      "text/plain": [
       "True"
      ]
     },
     "execution_count": 24,
     "metadata": {},
     "output_type": "execute_result"
    }
   ],
   "source": [
    "# Destroy actors\n",
    "cams[int(name[-1])].destroy()\n"
   ]
  },
  {
   "cell_type": "code",
   "execution_count": 94,
   "metadata": {},
   "outputs": [],
   "source": [
    "control = carla.VehicleAckermannControl(steer=0, steer_speed=0.0 ,speed=0.0, acceleration=0, jerk=0.0)\n",
    "car.apply_ackermann_control(control)"
   ]
  },
  {
   "cell_type": "code",
   "execution_count": 85,
   "metadata": {},
   "outputs": [],
   "source": [
    "control = carla.VehicleControl(throttle=0, steer=-1, brake=0,\n",
    "                                hand_brake=False, reverse=False, manual_gear_shift=False, gear=0)\n",
    "car.apply_control(control)"
   ]
  },
  {
   "cell_type": "code",
   "execution_count": 95,
   "metadata": {},
   "outputs": [
    {
     "data": {
      "text/plain": [
       "True"
      ]
     },
     "execution_count": 95,
     "metadata": {},
     "output_type": "execute_result"
    }
   ],
   "source": [
    "car.destroy()"
   ]
  },
  {
   "cell_type": "code",
   "execution_count": null,
   "metadata": {},
   "outputs": [],
   "source": [
    "world.tick()"
   ]
  },
  {
   "cell_type": "code",
   "execution_count": 13,
   "metadata": {},
   "outputs": [],
   "source": [
    "import carla\n",
    "from config.position import car_spawn\n",
    "from utils.tools import carla_point\n",
    "\n",
    "\n"
   ]
  },
  {
   "cell_type": "code",
   "execution_count": 97,
   "metadata": {},
   "outputs": [],
   "source": [
    "from gym import spaces\n",
    "import numpy as np"
   ]
  },
  {
   "cell_type": "code",
   "execution_count": 98,
   "metadata": {},
   "outputs": [
    {
     "name": "stderr",
     "output_type": "stream",
     "text": [
      "/home/lpr/miniconda3/envs/CarlaEnv/lib/python3.8/site-packages/gym/spaces/box.py:127: UserWarning: \u001b[33mWARN: Box bound precision lowered by casting to float32\u001b[0m\n",
      "  logger.warn(f\"Box bound precision lowered by casting to {self.dtype}\")\n"
     ]
    }
   ],
   "source": [
    "action_space = spaces.Box(np.array([-1, 0]), np.array([1, 1]), dtype=np.float32)"
   ]
  },
  {
   "cell_type": "code",
   "execution_count": 102,
   "metadata": {},
   "outputs": [
    {
     "data": {
      "text/plain": [
       "(0.5843601, 0.17324854)"
      ]
     },
     "execution_count": 102,
     "metadata": {},
     "output_type": "execute_result"
    }
   ],
   "source": [
    "a,b = action_space.sample()\n",
    "a,b"
   ]
  },
  {
   "cell_type": "code",
   "execution_count": 25,
   "metadata": {},
   "outputs": [],
   "source": [
    "\n",
    "\n",
    "observation_space = spaces.Dict({\n",
    "            'seg': spaces.Box(low=0, high=255, shape=(10,15,10 ,20), dtype=np.uint8),\n",
    "            'action': spaces.Box(low=-1.0, high=1.0, shape=(8,), dtype=np.float32),\n",
    "        })\n"
   ]
  },
  {
   "cell_type": "code",
   "execution_count": 33,
   "metadata": {},
   "outputs": [
    {
     "data": {
      "text/plain": [
       "(10, 15, 10, 20)"
      ]
     },
     "execution_count": 33,
     "metadata": {},
     "output_type": "execute_result"
    }
   ],
   "source": [
    "observation_space.sample()['seg'].shape"
   ]
  },
  {
   "cell_type": "code",
   "execution_count": 20,
   "metadata": {},
   "outputs": [],
   "source": [
    "random_image = np.random.randint(0, 256, size=(10, 20, 3), dtype=np.uint8)"
   ]
  },
  {
   "cell_type": "code",
   "execution_count": 23,
   "metadata": {},
   "outputs": [],
   "source": [
    "list_img = [random_image]*5"
   ]
  },
  {
   "cell_type": "code",
   "execution_count": 28,
   "metadata": {},
   "outputs": [
    {
     "data": {
      "text/plain": [
       "(5, 10, 20, 3)"
      ]
     },
     "execution_count": 28,
     "metadata": {},
     "output_type": "execute_result"
    }
   ],
   "source": [
    "a= np.array(list_img, dtype=np.uint8)\n",
    "a.shape"
   ]
  },
  {
   "cell_type": "code",
   "execution_count": 30,
   "metadata": {},
   "outputs": [],
   "source": [
    "state_seg_tmp = np.concatenate((a, a), axis=0)"
   ]
  },
  {
   "cell_type": "code",
   "execution_count": 31,
   "metadata": {},
   "outputs": [
    {
     "data": {
      "text/plain": [
       "(10, 10, 20, 3)"
      ]
     },
     "execution_count": 31,
     "metadata": {},
     "output_type": "execute_result"
    }
   ],
   "source": [
    "state_seg_tmp.shape"
   ]
  },
  {
   "cell_type": "code",
   "execution_count": 45,
   "metadata": {},
   "outputs": [
    {
     "data": {
      "text/plain": [
       "[{'image_size_x': 483,\n",
       "  'image_size_y': 272,\n",
       "  'fov': 69,\n",
       "  'sensor_tick': 0.001,\n",
       "  'name': 'front_camera',\n",
       "  'Location': (0.98, 0, 1.675),\n",
       "  'Rotation': (-12.5, 0, 0)},\n",
       " {'image_size_x': 483,\n",
       "  'image_size_y': 272,\n",
       "  'fov': 69,\n",
       "  'sensor_tick': 0.001,\n",
       "  'name': 'right_camera',\n",
       "  'Location': (0, 0.61, 1.675),\n",
       "  'Rotation': (-30, 90, 0)},\n",
       " {'image_size_x': 483,\n",
       "  'image_size_y': 272,\n",
       "  'fov': 69,\n",
       "  'sensor_tick': 0.001,\n",
       "  'name': 'left_camera',\n",
       "  'Location': (0, -0.61, 1.675),\n",
       "  'Rotation': (-30, -90, 0)}]"
      ]
     },
     "execution_count": 45,
     "metadata": {},
     "output_type": "execute_result"
    }
   ],
   "source": [
    "from config.camera import front_cam,right_cam,left_cam\n",
    "\n",
    "camera_list = [front_cam,right_cam,left_cam]\n",
    "camera_list"
   ]
  },
  {
   "cell_type": "code",
   "execution_count": null,
   "metadata": {},
   "outputs": [],
   "source": [
    "{cam['name']:spaces.Box(low=0, high=255, shape=(8,SEG_SIZE,), dtype=np.uint8) for cam in camera_list}"
   ]
  },
  {
   "cell_type": "code",
   "execution_count": null,
   "metadata": {},
   "outputs": [],
   "source": [
    "observation_space = spaces.Dict({\n",
    "            'seg': spaces.Box(low=0, high=255, shape=(IN_CHANNLES,SEG_SIZE,), dtype=np.uint8),\n",
    "            'action': spaces.Box(low=-1.0, high=1.0, shape=(N_LOOK_BACK,), dtype=np.float32),\n",
    "\n",
    "        })"
   ]
  },
  {
   "cell_type": "code",
   "execution_count": 27,
   "metadata": {},
   "outputs": [],
   "source": [
    "a =spaces.Box(np.array([-1, 0]), np.array([1, 1]))"
   ]
  },
  {
   "cell_type": "code",
   "execution_count": 28,
   "metadata": {},
   "outputs": [
    {
     "data": {
      "text/plain": [
       "dtype('float32')"
      ]
     },
     "execution_count": 28,
     "metadata": {},
     "output_type": "execute_result"
    }
   ],
   "source": [
    "a.dtype"
   ]
  },
  {
   "cell_type": "code",
   "execution_count": 26,
   "metadata": {},
   "outputs": [
    {
     "name": "stderr",
     "output_type": "stream",
     "text": [
      "/home/lpr/miniconda3/envs/CarlaEnv/lib/python3.8/site-packages/gym/spaces/box.py:127: UserWarning: \u001b[33mWARN: Box bound precision lowered by casting to float32\u001b[0m\n",
      "  logger.warn(f\"Box bound precision lowered by casting to {self.dtype}\")\n"
     ]
    }
   ],
   "source": [
    "action_space = spaces.Box(np.array([-1, 0]), np.array([1, 1]), dtype=np.float32)"
   ]
  },
  {
   "cell_type": "code",
   "execution_count": 48,
   "metadata": {},
   "outputs": [
    {
     "data": {
      "text/plain": [
       "array([0.30563948, 0.8410887 ], dtype=float32)"
      ]
     },
     "execution_count": 48,
     "metadata": {},
     "output_type": "execute_result"
    }
   ],
   "source": [
    "action_space.sample()"
   ]
  }
 ],
 "metadata": {
  "kernelspec": {
   "display_name": "SumoEnv",
   "language": "python",
   "name": "python3"
  },
  "language_info": {
   "codemirror_mode": {
    "name": "ipython",
    "version": 3
   },
   "file_extension": ".py",
   "mimetype": "text/x-python",
   "name": "python",
   "nbconvert_exporter": "python",
   "pygments_lexer": "ipython3",
   "version": "3.8.19"
  }
 },
 "nbformat": 4,
 "nbformat_minor": 2
}
